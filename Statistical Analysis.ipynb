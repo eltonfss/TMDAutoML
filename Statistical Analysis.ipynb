{
 "cells": [
  {
   "cell_type": "code",
   "execution_count": 1,
   "metadata": {
    "scrolled": true
   },
   "outputs": [
    {
     "name": "stdout",
     "output_type": "stream",
     "text": [
      "START CREATE BALANCED DATASET....\n",
      "END CREATE BALANCED DATASET....\n",
      "['time' 'activityrecognition#0' 'activityrecognition#1'\n",
      " 'android.sensor.accelerometer#mean' 'android.sensor.accelerometer#min'\n",
      " 'android.sensor.accelerometer#max' 'android.sensor.accelerometer#std'\n",
      " 'android.sensor.gravity#mean' 'android.sensor.gravity#min'\n",
      " 'android.sensor.gravity#max' 'android.sensor.gravity#std'\n",
      " 'android.sensor.linear_acceleration#mean'\n",
      " 'android.sensor.linear_acceleration#min'\n",
      " 'android.sensor.linear_acceleration#max'\n",
      " 'android.sensor.linear_acceleration#std'\n",
      " 'android.sensor.orientation#mean' 'android.sensor.orientation#min'\n",
      " 'android.sensor.orientation#max' 'android.sensor.orientation#std'\n",
      " 'android.sensor.gyroscope_uncalibrated#mean'\n",
      " 'android.sensor.gyroscope_uncalibrated#min'\n",
      " 'android.sensor.gyroscope_uncalibrated#max'\n",
      " 'android.sensor.gyroscope_uncalibrated#std'\n",
      " 'android.sensor.magnetic_field_uncalibrated#mean'\n",
      " 'android.sensor.magnetic_field_uncalibrated#min'\n",
      " 'android.sensor.magnetic_field_uncalibrated#max'\n",
      " 'android.sensor.magnetic_field_uncalibrated#std'\n",
      " 'android.sensor.rotation_vector#mean'\n",
      " 'android.sensor.rotation_vector#min' 'android.sensor.rotation_vector#max'\n",
      " 'android.sensor.rotation_vector#std' 'android.sensor.gyroscope#mean'\n",
      " 'android.sensor.gyroscope#min' 'android.sensor.gyroscope#max'\n",
      " 'android.sensor.gyroscope#std' 'android.sensor.game_rotation_vector#mean'\n",
      " 'android.sensor.game_rotation_vector#min'\n",
      " 'android.sensor.game_rotation_vector#max'\n",
      " 'android.sensor.game_rotation_vector#std'\n",
      " 'android.sensor.magnetic_field#mean' 'android.sensor.magnetic_field#min'\n",
      " 'android.sensor.magnetic_field#max' 'android.sensor.magnetic_field#std'\n",
      " 'android.sensor.pressure#mean' 'android.sensor.pressure#min'\n",
      " 'android.sensor.pressure#max' 'android.sensor.pressure#std'\n",
      " 'android.sensor.light#mean' 'android.sensor.light#min'\n",
      " 'android.sensor.light#max' 'android.sensor.light#std' 'sound#mean'\n",
      " 'sound#min' 'sound#max' 'sound#std' 'speed#mean' 'speed#min' 'speed#max'\n",
      " 'speed#std' 'android.sensor.proximity#mean'\n",
      " 'android.sensor.proximity#min' 'android.sensor.proximity#max'\n",
      " 'android.sensor.proximity#std' 'android.sensor.step_counter#mean'\n",
      " 'android.sensor.step_counter#min' 'android.sensor.step_counter#max'\n",
      " 'android.sensor.step_counter#std' 'target' 'user']\n"
     ]
    },
    {
     "data": {
      "text/plain": [
       "Car        1314\n",
       "Bus        1313\n",
       "Train      1312\n",
       "Still      1311\n",
       "Walking    1311\n",
       "Name: target, dtype: int64"
      ]
     },
     "execution_count": 1,
     "metadata": {},
     "output_type": "execute_result"
    }
   ],
   "source": [
    "%matplotlib inline\n",
    "from TMDataset import TMDataset\n",
    "dataset = TMDataset()\n",
    "dataset.create_balanced_dataset()\n",
    "#detection = TMDetection()\n",
    "dataframe = dataset.get_dataset\n",
    "print(dataframe.columns.values)\n",
    "reduced_dataframe = dataframe[[\n",
    "        'android.sensor.gyroscope_uncalibrated#mean',\n",
    "        'android.sensor.gyroscope#mean',\n",
    "    ]]\n",
    "dataframe['target'].value_counts()"
   ]
  },
  {
   "cell_type": "code",
   "execution_count": 2,
   "metadata": {},
   "outputs": [
    {
     "name": "stdout",
     "output_type": "stream",
     "text": [
      "       android.sensor.gyroscope#mean  android.sensor.gyroscope#mean\n",
      "count                    5740.000000                    5740.000000\n",
      "mean                        0.329170                       0.329170\n",
      "std                         0.578890                       0.578890\n",
      "min                         0.000000                       0.000000\n",
      "25%                         0.017290                       0.017290\n",
      "50%                         0.059505                       0.059505\n",
      "75%                         0.270155                       0.270155\n",
      "max                         4.679125                       4.679125\n"
     ]
    },
    {
     "data": {
      "image/png": "[encoded data removed]",
      "text/plain": [
       "<Figure size 432x288 with 1 Axes>"
      ]
     },
     "metadata": {},
     "output_type": "display_data"
    },
    {
     "data": {
      "image/png": "[encoded data removed]",
      "text/plain": [
       "<Figure size 432x288 with 2 Axes>"
      ]
     },
     "metadata": {},
     "output_type": "display_data"
    }
   ],
   "source": [
    "# Summary Statistics\n",
    "from pandas import DataFrame\n",
    "from pandas import read_csv\n",
    "from matplotlib import pyplot\n",
    "\n",
    "# descriptive stats\n",
    "print(reduced_dataframe.describe())\n",
    "# box and whisker plot\n",
    "reduced_dataframe.boxplot()\n",
    "pyplot.show()\n",
    "# histogram\n",
    "reduced_dataframe.hist()\n",
    "pyplot.show()"
   ]
  },
  {
   "cell_type": "code",
   "execution_count": 3,
   "metadata": {},
   "outputs": [
    {
     "name": "stdout",
     "output_type": "stream",
     "text": [
      "(nan, nan)\n",
      "It is unlikely that reduced_dataframe is normal\n"
     ]
    }
   ],
   "source": [
    "# Normality Test\n",
    "from pandas import read_csv\n",
    "from scipy.stats import normaltest\n",
    "from matplotlib import pyplot\n",
    "value, p = normaltest(reduced_dataframe.values[:,0])\n",
    "print(value, p)\n",
    "if p >= 0.05:\n",
    "    print('It is likely that reduced_dataframe is normal')\n",
    "else:\n",
    "    print('It is unlikely that reduced_dataframe is normal')\n"
   ]
  },
  {
   "cell_type": "code",
   "execution_count": 4,
   "metadata": {},
   "outputs": [
    {
     "name": "stdout",
     "output_type": "stream",
     "text": [
      "(array([nan, nan]), array([nan, nan]))\n"
     ]
    },
    {
     "name": "stderr",
     "output_type": "stream",
     "text": [
      "/home/eltonfss/anaconda3/envs/us_transportation/lib/python2.7/site-packages/scipy/stats/_distn_infrastructure.py:879: RuntimeWarning: invalid value encountered in greater\n",
      "  return (self.a < x) & (x < self.b)\n",
      "/home/eltonfss/anaconda3/envs/us_transportation/lib/python2.7/site-packages/scipy/stats/_distn_infrastructure.py:879: RuntimeWarning: invalid value encountered in less\n",
      "  return (self.a < x) & (x < self.b)\n",
      "/home/eltonfss/anaconda3/envs/us_transportation/lib/python2.7/site-packages/scipy/stats/_distn_infrastructure.py:1821: RuntimeWarning: invalid value encountered in less_equal\n",
      "  cond2 = cond0 & (x <= self.a)\n",
      "/home/eltonfss/anaconda3/envs/us_transportation/lib/python2.7/site-packages/ipykernel_launcher.py:12: RuntimeWarning: invalid value encountered in greater\n",
      "  if sys.path[0] == '':\n"
     ]
    },
    {
     "ename": "ValueError",
     "evalue": "The truth value of an array with more than one element is ambiguous. Use a.any() or a.all()",
     "output_type": "error",
     "traceback": [
      "\u001b[0;31m---------------------------------------------------------------------------\u001b[0m",
      "\u001b[0;31mValueError\u001b[0m                                Traceback (most recent call last)",
      "\u001b[0;32m<ipython-input-4-e46e4d88a0c7>\u001b[0m in \u001b[0;36m<module>\u001b[0;34m()\u001b[0m\n\u001b[1;32m     10\u001b[0m )\n\u001b[1;32m     11\u001b[0m \u001b[0;32mprint\u001b[0m\u001b[0;34m(\u001b[0m\u001b[0mvalue\u001b[0m\u001b[0;34m,\u001b[0m \u001b[0mpvalue\u001b[0m\u001b[0;34m)\u001b[0m\u001b[0;34m\u001b[0m\u001b[0m\n\u001b[0;32m---> 12\u001b[0;31m \u001b[0;32mif\u001b[0m \u001b[0mpvalue\u001b[0m \u001b[0;34m>\u001b[0m \u001b[0;36m0.05\u001b[0m\u001b[0;34m:\u001b[0m\u001b[0;34m\u001b[0m\u001b[0m\n\u001b[0m\u001b[1;32m     13\u001b[0m     \u001b[0;32mprint\u001b[0m\u001b[0;34m(\u001b[0m\u001b[0;34m'Samples are likely drawn from the same distributions (accept H0)'\u001b[0m\u001b[0;34m)\u001b[0m\u001b[0;34m\u001b[0m\u001b[0m\n\u001b[1;32m     14\u001b[0m \u001b[0;32melse\u001b[0m\u001b[0;34m:\u001b[0m\u001b[0;34m\u001b[0m\u001b[0m\n",
      "\u001b[0;31mValueError\u001b[0m: The truth value of an array with more than one element is ambiguous. Use a.any() or a.all()"
     ]
    }
   ],
   "source": [
    "#Compare Means for Gaussian Result\n",
    "from pandas import read_csv\n",
    "from scipy.stats import ttest_ind\n",
    "from matplotlib import pyplot\n",
    "# calculate the significance\n",
    "value, pvalue = ttest_ind(\n",
    "    reduced_dataframe['android.sensor.gyroscope_uncalibrated#mean'], \n",
    "    reduced_dataframe['android.sensor.gyroscope#mean'], \n",
    "    equal_var=True\n",
    ")\n",
    "print(value, pvalue)\n",
    "if pvalue > 0.05:\n",
    "    print('Samples are likely drawn from the same distributions (accept H0)')\n",
    "else:\n",
    "    print('Samples are likely drawn from different distributions (reject H0)')"
   ]
  },
  {
   "cell_type": "code",
   "execution_count": 5,
   "metadata": {},
   "outputs": [
    {
     "name": "stdout",
     "output_type": "stream",
     "text": [
      "(array([nan, nan]), array([nan, nan]))\n"
     ]
    },
    {
     "name": "stderr",
     "output_type": "stream",
     "text": [
      "/home/eltonfss/anaconda3/envs/us_transportation/lib/python2.7/site-packages/ipykernel_launcher.py:11: RuntimeWarning: invalid value encountered in greater\n",
      "  # This is added back by InteractiveShellApp.init_path()\n"
     ]
    },
    {
     "ename": "ValueError",
     "evalue": "The truth value of an array with more than one element is ambiguous. Use a.any() or a.all()",
     "output_type": "error",
     "traceback": [
      "\u001b[0;31m---------------------------------------------------------------------------\u001b[0m",
      "\u001b[0;31mValueError\u001b[0m                                Traceback (most recent call last)",
      "\u001b[0;32m<ipython-input-5-ecdc3c93b9bd>\u001b[0m in \u001b[0;36m<module>\u001b[0;34m()\u001b[0m\n\u001b[1;32m      9\u001b[0m \u001b[0mvalue\u001b[0m\u001b[0;34m,\u001b[0m \u001b[0mpvalue\u001b[0m \u001b[0;34m=\u001b[0m \u001b[0mttest_ind\u001b[0m\u001b[0;34m(\u001b[0m\u001b[0mvalues1\u001b[0m\u001b[0;34m,\u001b[0m \u001b[0mvalues2\u001b[0m\u001b[0;34m,\u001b[0m \u001b[0mequal_var\u001b[0m\u001b[0;34m=\u001b[0m\u001b[0mFalse\u001b[0m\u001b[0;34m)\u001b[0m\u001b[0;34m\u001b[0m\u001b[0m\n\u001b[1;32m     10\u001b[0m \u001b[0;32mprint\u001b[0m\u001b[0;34m(\u001b[0m\u001b[0mvalue\u001b[0m\u001b[0;34m,\u001b[0m \u001b[0mpvalue\u001b[0m\u001b[0;34m)\u001b[0m\u001b[0;34m\u001b[0m\u001b[0m\n\u001b[0;32m---> 11\u001b[0;31m \u001b[0;32mif\u001b[0m \u001b[0mpvalue\u001b[0m \u001b[0;34m>\u001b[0m \u001b[0;36m0.05\u001b[0m\u001b[0;34m:\u001b[0m\u001b[0;34m\u001b[0m\u001b[0m\n\u001b[0m\u001b[1;32m     12\u001b[0m     \u001b[0;32mprint\u001b[0m\u001b[0;34m(\u001b[0m\u001b[0;34m'Samples are likely drawn from the same distributions (accept H0)'\u001b[0m\u001b[0;34m)\u001b[0m\u001b[0;34m\u001b[0m\u001b[0m\n\u001b[1;32m     13\u001b[0m \u001b[0;32melse\u001b[0m\u001b[0;34m:\u001b[0m\u001b[0;34m\u001b[0m\u001b[0m\n",
      "\u001b[0;31mValueError\u001b[0m: The truth value of an array with more than one element is ambiguous. Use a.any() or a.all()"
     ]
    }
   ],
   "source": [
    "#Compare Means for Gaussian Results with Different Variance\n",
    "from numpy.random import seed\n",
    "from numpy.random import normal\n",
    "from scipy.stats import ttest_ind\n",
    "\n",
    "values1 = reduced_dataframe['android.sensor.gyroscope_uncalibrated#mean']\n",
    "values2 = reduced_dataframe['android.sensor.gyroscope#mean']\n",
    "# calculate the significance\n",
    "value, pvalue = ttest_ind(values1, values2, equal_var=False)\n",
    "print(value, pvalue)\n",
    "if pvalue > 0.05:\n",
    "    print('Samples are likely drawn from the same distributions (accept H0)')\n",
    "else:\n",
    "    print('Samples are likely drawn from different distributions (reject H0)')"
   ]
  },
  {
   "cell_type": "code",
   "execution_count": null,
   "metadata": {},
   "outputs": [],
   "source": [
    "#Compare Means for Non-Gaussian Results\n",
    "from numpy.random import seed\n",
    "from numpy.random import randint\n",
    "from scipy.stats import ks_2samp\n",
    "\n",
    "values1 = reduced_dataframe['android.sensor.gyroscope_uncalibrated#mean']\n",
    "values2 = reduced_dataframe['android.sensor.gyroscope#mean']\n",
    "# calculate the significance\n",
    "value, pvalue = ks_2samp(values1, values2)\n",
    "print(value, pvalue)\n",
    "if pvalue > 0.05:\n",
    "\tprint('Samples are likely drawn from the same distributions (accept H0)')\n",
    "else:\n",
    "\tprint('Samples are likely drawn from different distributions (reject H0)')"
   ]
  }
 ],
 "metadata": {
  "kernelspec": {
   "display_name": "us_transportation",
   "language": "python",
   "name": "us_transportation"
  },
  "language_info": {
   "codemirror_mode": {
    "name": "ipython",
    "version": 2
   },
   "file_extension": ".py",
   "mimetype": "text/x-python",
   "name": "python",
   "nbconvert_exporter": "python",
   "pygments_lexer": "ipython2",
   "version": "2.7.14"
  }
 },
 "nbformat": 4,
 "nbformat_minor": 1
}

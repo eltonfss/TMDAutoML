{
 "cells": [
  {
   "cell_type": "code",
   "execution_count": 1,
   "metadata": {},
   "outputs": [
    {
     "name": "stderr",
     "output_type": "stream",
     "text": [
      "/home/eltonfss/anaconda3/lib/python3.6/site-packages/sklearn/cross_validation.py:41: DeprecationWarning: This module was deprecated in version 0.18 in favor of the model_selection module into which all the refactored classes and functions are moved. Also note that the interface of the new CV iterators are different from that of this module. This module will be removed in 0.20.\n",
      "  \"This module will be removed in 0.20.\", DeprecationWarning)\n"
     ]
    },
    {
     "name": "stdout",
     "output_type": "stream",
     "text": [
      "START CREATE BALANCED DATASET....\n",
      "END CREATE BALANCED DATASET....\n",
      "HAVE_DT True\n",
      "['Bus' 'Bus' 'Bus' ... 'Walking' 'Walking' 'Walking']\n"
     ]
    }
   ],
   "source": [
    "from TMDataset import TMDataset\n",
    "from TMDetection import TMDetection\n",
    "dataset = TMDataset()\n",
    "dataset.create_balanced_dataset()\n",
    "detection = TMDetection()"
   ]
  },
  {
   "cell_type": "code",
   "execution_count": 2,
   "metadata": {
    "scrolled": true
   },
   "outputs": [
    {
     "name": "stdout",
     "output_type": "stream",
     "text": [
      "DECISION TREE.....\n",
      "CLASSIFICATION BASED ON THESE SENSORS:  ['accelerometer', 'gyroscope', 'sound']\n",
      "NUMBER OF FEATURES:  12\n",
      "ACCURACY : 0.7214263943919537\n",
      "REPORT :              precision    recall  f1-score   support\n",
      "\n",
      "          0       0.64      0.65      0.64       666\n",
      "          1       0.66      0.64      0.65       682\n",
      "          2       0.77      0.81      0.79       631\n",
      "          3       0.67      0.65      0.66       654\n",
      "          4       0.88      0.87      0.87       648\n",
      "\n",
      "avg / total       0.72      0.72      0.72      3281\n",
      "\n",
      "CONFUSION MATRIX : [[433  87  41  69  36]\n",
      " [110 436  28  85  23]\n",
      " [ 35  29 512  46   9]\n",
      " [ 71  93  58 423   9]\n",
      " [ 31  14  27  13 563]]\n",
      "SPLIT TIME: 0.218\n",
      "FIT TIME: 0.036\n",
      "SCORE TIME: 0.007\n",
      "SPLIT TIME: 0.199\n",
      "10 -Fold Cross Validation Results\n",
      "MEAN ACCURACY: 0.635701144802524\n",
      "MEAN PRECISION: 0.6316236153315502\n",
      "MEAN RECALL: 0.6358107795512377\n",
      "MEAN F-MEASURE: 0.6275595117895776\n",
      "MEAN FIT TIME: 0.07308869361877442\n",
      "MEAN SCORE TIME: 0.0025293111801147463\n",
      "END TREE\n",
      "DECISION TREE.....\n",
      "CLASSIFICATION BASED ON THESE SENSORS:  ['accelerometer', 'linear_acceleration', 'orientation', 'gyroscope_uncalibrated', 'rotation_vector', 'gyroscope', 'game_rotation_vector', 'sound']\n",
      "NUMBER OF FEATURES:  32\n",
      "ACCURACY : 0.7726302956415727\n",
      "REPORT :              precision    recall  f1-score   support\n",
      "\n",
      "          0       0.72      0.71      0.72       666\n",
      "          1       0.73      0.64      0.68       682\n",
      "          2       0.82      0.86      0.84       631\n",
      "          3       0.71      0.78      0.74       654\n",
      "          4       0.88      0.89      0.88       648\n",
      "\n",
      "avg / total       0.77      0.77      0.77      3281\n",
      "\n",
      "CONFUSION MATRIX : [[473  70  20  63  40]\n",
      " [ 99 435  30  96  22]\n",
      " [ 30  18 544  32   7]\n",
      " [ 37  47  49 508  13]\n",
      " [ 18  23  17  15 575]]\n",
      "SPLIT TIME: 0.243\n",
      "FIT TIME: 0.104\n",
      "SCORE TIME: 0.008\n",
      "SPLIT TIME: 0.189\n",
      "10 -Fold Cross Validation Results\n",
      "MEAN ACCURACY: 0.6534766748630669\n",
      "MEAN PRECISION: 0.6484275342857292\n",
      "MEAN RECALL: 0.6535727504048114\n",
      "MEAN F-MEASURE: 0.6434812161293997\n",
      "MEAN FIT TIME: 0.20454161167144774\n",
      "MEAN SCORE TIME: 0.0027385234832763674\n",
      "END TREE\n",
      "DECISION TREE.....\n",
      "CLASSIFICATION BASED ON THESE SENSORS:  ['accelerometer', 'linear_acceleration', 'orientation', 'gyroscope_uncalibrated', 'rotation_vector', 'gyroscope', 'game_rotation_vector', 'sound', 'speed']\n",
      "NUMBER OF FEATURES:  36\n",
      "ACCURACY : 0.8537031392868029\n",
      "REPORT :              precision    recall  f1-score   support\n",
      "\n",
      "          0       0.83      0.81      0.82       666\n",
      "          1       0.87      0.80      0.84       682\n",
      "          2       0.84      0.89      0.86       631\n",
      "          3       0.84      0.87      0.85       654\n",
      "          4       0.89      0.90      0.90       648\n",
      "\n",
      "avg / total       0.85      0.85      0.85      3281\n",
      "\n",
      "CONFUSION MATRIX : [[540  34  21  32  39]\n",
      " [ 51 547  24  46  14]\n",
      " [ 20  14 563  22  12]\n",
      " [ 22  17  41 567   7]\n",
      " [ 15  14  25  10 584]]\n",
      "SPLIT TIME: 0.206\n",
      "FIT TIME: 0.097\n",
      "SCORE TIME: 0.007\n",
      "SPLIT TIME: 0.201\n",
      "10 -Fold Cross Validation Results\n",
      "MEAN ACCURACY: 0.7100837765319407\n",
      "MEAN PRECISION: 0.7048407104586629\n",
      "MEAN RECALL: 0.7101919962988665\n",
      "MEAN F-MEASURE: 0.697198473173095\n",
      "MEAN FIT TIME: 0.20488686561584474\n",
      "MEAN SCORE TIME: 0.0024883270263671873\n",
      "END TREE\n"
     ]
    }
   ],
   "source": [
    "detection.decision_tree(1)\n",
    "detection.decision_tree(2)\n",
    "detection.decision_tree(3)"
   ]
  },
  {
   "cell_type": "code",
   "execution_count": null,
   "metadata": {},
   "outputs": [],
   "source": [
    "detection.random_forest(1)\n",
    "detection.random_forest(2)\n",
    "detection.random_forest(3)"
   ]
  },
  {
   "cell_type": "code",
   "execution_count": null,
   "metadata": {},
   "outputs": [],
   "source": [
    "detection.support_vector_machine(1)\n",
    "detection.support_vector_machine(2)\n",
    "detection.support_vector_machine(3)"
   ]
  },
  {
   "cell_type": "code",
   "execution_count": null,
   "metadata": {},
   "outputs": [],
   "source": [
    "detection.neural_network(1)\n",
    "detection.neural_network(2)\n",
    "detection.neural_network(3)"
   ]
  },
  {
   "cell_type": "code",
   "execution_count": null,
   "metadata": {},
   "outputs": [],
   "source": [
    "detection.auto_machine_learning(1, search_time=300)\n",
    "detection.auto_machine_learning(2, search_time=300)\n",
    "detection.auto_machine_learning(3, search_time=300)"
   ]
  },
  {
   "cell_type": "code",
   "execution_count": null,
   "metadata": {},
   "outputs": [],
   "source": [
    "detection.decision_tree(1, apply_pca=True, number_of_components=3)\n",
    "detection.decision_tree(2, apply_pca=True, number_of_components=8)\n",
    "detection.decision_tree(3, apply_pca=True, number_of_components=9)"
   ]
  },
  {
   "cell_type": "code",
   "execution_count": null,
   "metadata": {},
   "outputs": [],
   "source": [
    "detection.random_forest(1, apply_pca=True, number_of_components=3)\n",
    "detection.random_forest(2, apply_pca=True, number_of_components=8)\n",
    "detection.random_forest(3, apply_pca=True, number_of_components=9)"
   ]
  },
  {
   "cell_type": "code",
   "execution_count": null,
   "metadata": {},
   "outputs": [],
   "source": [
    "detection.support_vector_machine(1, apply_pca=True, number_of_components=3)\n",
    "detection.support_vector_machine(2, apply_pca=True, number_of_components=8)\n",
    "detection.support_vector_machine(3, apply_pca=True, number_of_components=9)"
   ]
  },
  {
   "cell_type": "code",
   "execution_count": null,
   "metadata": {},
   "outputs": [],
   "source": [
    "detection.neural_network(1, apply_pca=True, number_of_components=3)\n",
    "detection.neural_network(2, apply_pca=True, number_of_components=8)\n",
    "detection.neural_network(3, apply_pca=True, number_of_components=9)"
   ]
  },
  {
   "cell_type": "code",
   "execution_count": null,
   "metadata": {},
   "outputs": [
    {
     "name": "stdout",
     "output_type": "stream",
     "text": [
      "AUTO MACHINE LEARNING.....\n",
      "CLASSIFICATION BASED ON THESE SENSORS:  ['accelerometer', 'gyroscope', 'sound']\n",
      "NUMBER OF FEATURES:  12\n",
      "Time limit for a single run is higher than total time limit. Capping the limit for a single run to the total time given to SMAC (59.771488)\n",
      "ACCURACY : 0.5409935995123438\n",
      "REPORT :              precision    recall  f1-score   support\n",
      "\n",
      "          0       0.36      0.21      0.27       666\n",
      "          1       0.41      0.50      0.45       682\n",
      "          2       0.65      0.82      0.73       631\n",
      "          3       0.45      0.41      0.43       654\n",
      "          4       0.77      0.78      0.78       648\n",
      "\n",
      "avg / total       0.53      0.54      0.53      3281\n",
      "\n",
      "CONFUSION MATRIX : [[142 272  59 126  67]\n",
      " [ 67 343  77 132  63]\n",
      " [ 19  24 516  62  10]\n",
      " [138 137 102 269   8]\n",
      " [ 29  63  37  14 505]]\n",
      "SPLIT TIME: 0.24\n",
      "FIT TIME: 54.577\n",
      "SCORE TIME: 0.892\n",
      "FINAL ENSEMBLE: [(0.320000, SimpleClassificationPipeline({'balancing:strategy': 'none', 'categorical_encoding:__choice__': 'one_hot_encoding', 'classifier:__choice__': 'random_forest', 'imputation:strategy': 'mean', 'preprocessor:__choice__': 'no_preprocessing', 'rescaling:__choice__': 'standardize', 'categorical_encoding:one_hot_encoding:use_minimum_fraction': 'True', 'classifier:random_forest:bootstrap': 'True', 'classifier:random_forest:criterion': 'gini', 'classifier:random_forest:max_depth': 'None', 'classifier:random_forest:max_features': 0.5, 'classifier:random_forest:max_leaf_nodes': 'None', 'classifier:random_forest:min_impurity_decrease': 0.0, 'classifier:random_forest:min_samples_leaf': 1, 'classifier:random_forest:min_samples_split': 2, 'classifier:random_forest:min_weight_fraction_leaf': 0.0, 'classifier:random_forest:n_estimators': 100, 'categorical_encoding:one_hot_encoding:minimum_fraction': 0.01},\n",
      "dataset_properties={\n",
      "  'task': 2,\n",
      "  'sparse': False,\n",
      "  'multilabel': False,\n",
      "  'multiclass': True,\n",
      "  'target_type': 'classification',\n",
      "  'signed': False})),\n",
      "(0.220000, SimpleClassificationPipeline({'balancing:strategy': 'weighting', 'categorical_encoding:__choice__': 'no_encoding', 'classifier:__choice__': 'extra_trees', 'imputation:strategy': 'most_frequent', 'preprocessor:__choice__': 'extra_trees_preproc_for_classification', 'rescaling:__choice__': 'none', 'classifier:extra_trees:bootstrap': 'False', 'classifier:extra_trees:criterion': 'entropy', 'classifier:extra_trees:max_depth': 'None', 'classifier:extra_trees:max_features': 0.9541039630394388, 'classifier:extra_trees:max_leaf_nodes': 'None', 'classifier:extra_trees:min_impurity_decrease': 0.0, 'classifier:extra_trees:min_samples_leaf': 16, 'classifier:extra_trees:min_samples_split': 14, 'classifier:extra_trees:min_weight_fraction_leaf': 0.0, 'classifier:extra_trees:n_estimators': 100, 'preprocessor:extra_trees_preproc_for_classification:bootstrap': 'True', 'preprocessor:extra_trees_preproc_for_classification:criterion': 'entropy', 'preprocessor:extra_trees_preproc_for_classification:max_depth': 'None', 'preprocessor:extra_trees_preproc_for_classification:max_features': 0.9082628722828775, 'preprocessor:extra_trees_preproc_for_classification:max_leaf_nodes': 'None', 'preprocessor:extra_trees_preproc_for_classification:min_impurity_decrease': 0.0, 'preprocessor:extra_trees_preproc_for_classification:min_samples_leaf': 2, 'preprocessor:extra_trees_preproc_for_classification:min_samples_split': 18, 'preprocessor:extra_trees_preproc_for_classification:min_weight_fraction_leaf': 0.0, 'preprocessor:extra_trees_preproc_for_classification:n_estimators': 100},\n",
      "dataset_properties={\n",
      "  'task': 2,\n",
      "  'sparse': False,\n",
      "  'multilabel': False,\n",
      "  'multiclass': True,\n",
      "  'target_type': 'classification',\n",
      "  'signed': False})),\n",
      "(0.200000, SimpleClassificationPipeline({'balancing:strategy': 'none', 'categorical_encoding:__choice__': 'no_encoding', 'classifier:__choice__': 'lda', 'imputation:strategy': 'most_frequent', 'preprocessor:__choice__': 'polynomial', 'rescaling:__choice__': 'minmax', 'classifier:lda:n_components': 170, 'classifier:lda:shrinkage': 'None', 'classifier:lda:tol': 0.014191958374153584, 'preprocessor:polynomial:degree': 2, 'preprocessor:polynomial:include_bias': 'False', 'preprocessor:polynomial:interaction_only': 'True'},\n",
      "dataset_properties={\n",
      "  'task': 2,\n",
      "  'sparse': False,\n",
      "  'multilabel': False,\n",
      "  'multiclass': True,\n",
      "  'target_type': 'classification',\n",
      "  'signed': False})),\n",
      "(0.120000, SimpleClassificationPipeline({'balancing:strategy': 'weighting', 'categorical_encoding:__choice__': 'one_hot_encoding', 'classifier:__choice__': 'random_forest', 'imputation:strategy': 'most_frequent', 'preprocessor:__choice__': 'feature_agglomeration', 'rescaling:__choice__': 'robust_scaler', 'categorical_encoding:one_hot_encoding:use_minimum_fraction': 'True', 'classifier:random_forest:bootstrap': 'False', 'classifier:random_forest:criterion': 'entropy', 'classifier:random_forest:max_depth': 'None', 'classifier:random_forest:max_features': 0.5565918060287016, 'classifier:random_forest:max_leaf_nodes': 'None', 'classifier:random_forest:min_impurity_decrease': 0.0, 'classifier:random_forest:min_samples_leaf': 5, 'classifier:random_forest:min_samples_split': 18, 'classifier:random_forest:min_weight_fraction_leaf': 0.0, 'classifier:random_forest:n_estimators': 100, 'preprocessor:feature_agglomeration:affinity': 'cosine', 'preprocessor:feature_agglomeration:linkage': 'complete', 'preprocessor:feature_agglomeration:n_clusters': 173, 'preprocessor:feature_agglomeration:pooling_func': 'max', 'rescaling:robust_scaler:q_max': 0.9527068489270145, 'rescaling:robust_scaler:q_min': 0.04135311355893583, 'categorical_encoding:one_hot_encoding:minimum_fraction': 0.0053329726928195206},\n",
      "dataset_properties={\n",
      "  'task': 2,\n",
      "  'sparse': False,\n",
      "  'multilabel': False,\n",
      "  'multiclass': True,\n",
      "  'target_type': 'classification',\n",
      "  'signed': False})),\n",
      "(0.080000, SimpleClassificationPipeline({'balancing:strategy': 'weighting', 'categorical_encoding:__choice__': 'one_hot_encoding', 'classifier:__choice__': 'gradient_boosting', 'imputation:strategy': 'most_frequent', 'preprocessor:__choice__': 'no_preprocessing', 'rescaling:__choice__': 'robust_scaler', 'categorical_encoding:one_hot_encoding:use_minimum_fraction': 'True', 'classifier:gradient_boosting:criterion': 'friedman_mse', 'classifier:gradient_boosting:learning_rate': 0.059656714779183606, 'classifier:gradient_boosting:loss': 'deviance', 'classifier:gradient_boosting:max_depth': 8, 'classifier:gradient_boosting:max_features': 0.4858133247974158, 'classifier:gradient_boosting:max_leaf_nodes': 'None', 'classifier:gradient_boosting:min_impurity_decrease': 0.0, 'classifier:gradient_boosting:min_samples_leaf': 14, 'classifier:gradient_boosting:min_samples_split': 7, 'classifier:gradient_boosting:min_weight_fraction_leaf': 0.0, 'classifier:gradient_boosting:n_estimators': 480, 'classifier:gradient_boosting:subsample': 0.5726186552917335, 'rescaling:robust_scaler:q_max': 0.75, 'rescaling:robust_scaler:q_min': 0.15318294164619112, 'categorical_encoding:one_hot_encoding:minimum_fraction': 0.03644212536682547},\n",
      "dataset_properties={\n",
      "  'task': 2,\n",
      "  'sparse': False,\n",
      "  'multilabel': False,\n",
      "  'multiclass': True,\n",
      "  'target_type': 'classification',\n",
      "  'signed': False})),\n",
      "(0.040000, SimpleClassificationPipeline({'balancing:strategy': 'weighting', 'categorical_encoding:__choice__': 'one_hot_encoding', 'classifier:__choice__': 'gradient_boosting', 'imputation:strategy': 'mean', 'preprocessor:__choice__': 'no_preprocessing', 'rescaling:__choice__': 'standardize', 'categorical_encoding:one_hot_encoding:use_minimum_fraction': 'True', 'classifier:gradient_boosting:criterion': 'friedman_mse', 'classifier:gradient_boosting:learning_rate': 0.045388141846341344, 'classifier:gradient_boosting:loss': 'deviance', 'classifier:gradient_boosting:max_depth': 10, 'classifier:gradient_boosting:max_features': 0.29161769341843435, 'classifier:gradient_boosting:max_leaf_nodes': 'None', 'classifier:gradient_boosting:min_impurity_decrease': 0.0, 'classifier:gradient_boosting:min_samples_leaf': 20, 'classifier:gradient_boosting:min_samples_split': 2, 'classifier:gradient_boosting:min_weight_fraction_leaf': 0.0, 'classifier:gradient_boosting:n_estimators': 278, 'classifier:gradient_boosting:subsample': 0.7912571599269661, 'categorical_encoding:one_hot_encoding:minimum_fraction': 0.00011717632475982631},\n",
      "dataset_properties={\n",
      "  'task': 2,\n",
      "  'sparse': False,\n",
      "  'multilabel': False,\n",
      "  'multiclass': True,\n",
      "  'target_type': 'classification',\n",
      "  'signed': False})),\n",
      "(0.020000, SimpleClassificationPipeline({'balancing:strategy': 'none', 'categorical_encoding:__choice__': 'no_encoding', 'classifier:__choice__': 'gradient_boosting', 'imputation:strategy': 'median', 'preprocessor:__choice__': 'polynomial', 'rescaling:__choice__': 'standardize', 'classifier:gradient_boosting:criterion': 'mse', 'classifier:gradient_boosting:learning_rate': 0.25109778817567596, 'classifier:gradient_boosting:loss': 'deviance', 'classifier:gradient_boosting:max_depth': 6, 'classifier:gradient_boosting:max_features': 0.35679099363539235, 'classifier:gradient_boosting:max_leaf_nodes': 'None', 'classifier:gradient_boosting:min_impurity_decrease': 0.0, 'classifier:gradient_boosting:min_samples_leaf': 13, 'classifier:gradient_boosting:min_samples_split': 11, 'classifier:gradient_boosting:min_weight_fraction_leaf': 0.0, 'classifier:gradient_boosting:n_estimators': 157, 'classifier:gradient_boosting:subsample': 0.4791732272983235, 'preprocessor:polynomial:degree': 2, 'preprocessor:polynomial:include_bias': 'False', 'preprocessor:polynomial:interaction_only': 'True'},\n",
      "dataset_properties={\n",
      "  'task': 2,\n",
      "  'sparse': False,\n",
      "  'multilabel': False,\n",
      "  'multiclass': True,\n",
      "  'target_type': 'classification',\n",
      "  'signed': False})),\n",
      "]\n"
     ]
    },
    {
     "name": "stdout",
     "output_type": "stream",
     "text": [
      "SPLIT TIME: 0.206\n"
     ]
    }
   ],
   "source": [
    "detection.auto_machine_learning(1, search_time=60, apply_pca=True, number_of_components=3)\n",
    "detection.auto_machine_learning(2, search_time=60, apply_pca=True, number_of_components=8)\n",
    "detection.auto_machine_learning(3, search_time=60, apply_pca=True, number_of_components=9)"
   ]
  }
 ],
 "metadata": {
  "kernelspec": {
   "display_name": "Python 3",
   "language": "python",
   "name": "python3"
  },
  "language_info": {
   "codemirror_mode": {
    "name": "ipython",
    "version": 3
   },
   "file_extension": ".py",
   "mimetype": "text/x-python",
   "name": "python",
   "nbconvert_exporter": "python",
   "pygments_lexer": "ipython3",
   "version": "3.6.4"
  }
 },
 "nbformat": 4,
 "nbformat_minor": 2
}
